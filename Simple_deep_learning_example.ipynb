{
  "nbformat": 4,
  "nbformat_minor": 0,
  "metadata": {
    "colab": {
      "name": "Simple deep learning example",
      "version": "0.3.2",
      "provenance": [],
      "collapsed_sections": []
    },
    "kernelspec": {
      "name": "python3",
      "display_name": "Python 3"
    }
  },
  "cells": [
    {
      "cell_type": "markdown",
      "metadata": {
        "id": "VSQtg4zhIwrr",
        "colab_type": "text"
      },
      "source": [
        "What can be a simplest deep learning example?"
      ]
    },
    {
      "cell_type": "code",
      "metadata": {
        "id": "M94YfCfX73tH",
        "colab_type": "code",
        "colab": {
          "base_uri": "https://localhost:8080/",
          "height": 51
        },
        "outputId": "dfd9e900-99ea-42fc-9649-33a9e04decea"
      },
      "source": [
        "# only on google colab\n",
        "!curl -s https://course.fast.ai/setup/colab | bash"
      ],
      "execution_count": 1,
      "outputs": [
        {
          "output_type": "stream",
          "text": [
            "Updating fastai...\n",
            "Done.\n"
          ],
          "name": "stdout"
        }
      ]
    },
    {
      "cell_type": "markdown",
      "metadata": {
        "id": "oBTozolc8hi3",
        "colab_type": "text"
      },
      "source": [
        "We will implement simplest deep learning with simple example of a line.\n",
        "\n",
        "A line is represented as \n",
        "\n",
        "\n",
        "$ y = ax + b $\n",
        "\n",
        "$ y = a_1x + a_2 x$\n",
        "\n",
        "$ y = a_1x_1 + a_2 x_2$\n",
        "\n",
        "$ y_i = a_1x_{1i} + a_2 x_{2i}$\n",
        "\n",
        "\n",
        "\n",
        "=> to represent a point on a line  \n",
        "$y$ is a dot product to matrix $x$ & $a$ i.deep learninge\n",
        "\n",
        "$\\bar y $ =X $\\bar a $ \n",
        "\n",
        " \n",
        "#Create the line"
      ]
    },
    {
      "cell_type": "code",
      "metadata": {
        "id": "LtXVGeWD-v8n",
        "colab_type": "code",
        "colab": {}
      },
      "source": [
        "%matplotlib inline\n",
        "from fastai.basics import *"
      ],
      "execution_count": 0,
      "outputs": []
    },
    {
      "cell_type": "code",
      "metadata": {
        "id": "JwS8bExo8EJ7",
        "colab_type": "code",
        "colab": {
          "base_uri": "https://localhost:8080/",
          "height": 102
        },
        "outputId": "7336d2f6-c794-48b8-c001-f4559ecf2ce0"
      },
      "source": [
        "n = 100\n",
        "x = torch.ones(n,2) \n",
        "x[:,0].uniform_(-1.,1)\n",
        "x[:5]"
      ],
      "execution_count": 3,
      "outputs": [
        {
          "output_type": "execute_result",
          "data": {
            "text/plain": [
              "tensor([[-0.5704,  1.0000],\n",
              "        [-0.4755,  1.0000],\n",
              "        [ 0.5086,  1.0000],\n",
              "        [-0.3661,  1.0000],\n",
              "        [ 0.4988,  1.0000]])"
            ]
          },
          "metadata": {
            "tags": []
          },
          "execution_count": 3
        }
      ]
    },
    {
      "cell_type": "code",
      "metadata": {
        "id": "-xu-TbtI-r19",
        "colab_type": "code",
        "colab": {
          "base_uri": "https://localhost:8080/",
          "height": 34
        },
        "outputId": "9042478c-1da1-4db2-cf20-91b4d697fdb3"
      },
      "source": [
        "a = tensor(3.,2); a"
      ],
      "execution_count": 4,
      "outputs": [
        {
          "output_type": "execute_result",
          "data": {
            "text/plain": [
              "tensor([3., 2.])"
            ]
          },
          "metadata": {
            "tags": []
          },
          "execution_count": 4
        }
      ]
    },
    {
      "cell_type": "code",
      "metadata": {
        "id": "waiTig1K-39p",
        "colab_type": "code",
        "colab": {
          "base_uri": "https://localhost:8080/",
          "height": 269
        },
        "outputId": "20c3d751-f478-4b75-fe15-67687c27d9a9"
      },
      "source": [
        "y = x@a #+ torch.rand(n)\n",
        "plt.scatter(x[:,0], y);"
      ],
      "execution_count": 5,
      "outputs": [
        {
          "output_type": "display_data",
          "data": {
            "image/png": "[encoded data removed]",
            "text/plain": [
              "<Figure size 432x288 with 1 Axes>"
            ]
          },
          "metadata": {
            "tags": []
          }
        }
      ]
    },
    {
      "cell_type": "markdown",
      "metadata": {
        "id": "MbRpaM35AElj",
        "colab_type": "text"
      },
      "source": [
        "In NN we have only `x & y`. `a` is not available to us and we have to predict `a`. \n",
        "\n",
        "To start calculation we randomly initialize `a`"
      ]
    },
    {
      "cell_type": "code",
      "metadata": {
        "id": "lDDY8_5q-6mP",
        "colab_type": "code",
        "colab": {
          "base_uri": "https://localhost:8080/",
          "height": 51
        },
        "outputId": "4736bdd6-0baa-49d2-a187-9213a9dc2bc1"
      },
      "source": [
        "def mse(y_hat, y): \n",
        "    return ((y_hat-y)**2).mean()\n",
        "\n",
        "\n",
        "a = nn.Parameter(torch.rand(2)); a\n"
      ],
      "execution_count": 6,
      "outputs": [
        {
          "output_type": "execute_result",
          "data": {
            "text/plain": [
              "Parameter containing:\n",
              "tensor([0.5055, 0.0874], requires_grad=True)"
            ]
          },
          "metadata": {
            "tags": []
          },
          "execution_count": 6
        }
      ]
    },
    {
      "cell_type": "code",
      "metadata": {
        "id": "UOV-fls5-9di",
        "colab_type": "code",
        "colab": {}
      },
      "source": [
        "def update():\n",
        "    y_hat = x @ a\n",
        "    loss = mse(y_hat, y)\n",
        "    if t%10==0:\n",
        "        print(loss)\n",
        "    loss.backward()\n",
        "    # torch.no_grad() set requires_grad flag to false\n",
        "    # requires_grad means this layer is available for training\n",
        "    # We are not using any layers.\n",
        "    with torch.no_grad():\n",
        "        # the gradient is showing where the next value of a should reside.\n",
        "        # we subtract it from previous value.\n",
        "        a.sub_(lr * a.grad) \n",
        "        a.grad.zero_()"
      ],
      "execution_count": 0,
      "outputs": []
    },
    {
      "cell_type": "code",
      "metadata": {
        "id": "cuju9R93CEvr",
        "colab_type": "code",
        "colab": {
          "base_uri": "https://localhost:8080/",
          "height": 187
        },
        "outputId": "2315b887-04fb-495b-ef6d-3d8e90d0f7fc"
      },
      "source": [
        "lr = 1e-1\n",
        "for t in range(100):\n",
        "    update()"
      ],
      "execution_count": 8,
      "outputs": [
        {
          "output_type": "stream",
          "text": [
            "tensor(5.4649, grad_fn=<MeanBackward0>)\n",
            "tensor(0.5915, grad_fn=<MeanBackward0>)\n",
            "tensor(0.1551, grad_fn=<MeanBackward0>)\n",
            "tensor(0.0434, grad_fn=<MeanBackward0>)\n",
            "tensor(0.0122, grad_fn=<MeanBackward0>)\n",
            "tensor(0.0034, grad_fn=<MeanBackward0>)\n",
            "tensor(0.0010, grad_fn=<MeanBackward0>)\n",
            "tensor(0.0003, grad_fn=<MeanBackward0>)\n",
            "tensor(7.5263e-05, grad_fn=<MeanBackward0>)\n",
            "tensor(2.1110e-05, grad_fn=<MeanBackward0>)\n"
          ],
          "name": "stdout"
        }
      ]
    },
    {
      "cell_type": "code",
      "metadata": {
        "id": "kyMqJNfVCKUl",
        "colab_type": "code",
        "colab": {
          "base_uri": "https://localhost:8080/",
          "height": 51
        },
        "outputId": "68241e6a-1500-46b8-c850-081264b0e3c0"
      },
      "source": [
        "a"
      ],
      "execution_count": 9,
      "outputs": [
        {
          "output_type": "execute_result",
          "data": {
            "text/plain": [
              "Parameter containing:\n",
              "tensor([2.9956, 1.9999], requires_grad=True)"
            ]
          },
          "metadata": {
            "tags": []
          },
          "execution_count": 9
        }
      ]
    },
    {
      "cell_type": "markdown",
      "metadata": {
        "id": "I6CU7XgLEfR1",
        "colab_type": "text"
      },
      "source": [
        "We can the value of predicted `a` is close to original `[3,2]`"
      ]
    },
    {
      "cell_type": "code",
      "metadata": {
        "id": "efrlDz1CCUWj",
        "colab_type": "code",
        "colab": {
          "base_uri": "https://localhost:8080/",
          "height": 298
        },
        "outputId": "ab8790e7-5da1-405f-e33c-c5ba5959b9f6"
      },
      "source": [
        "plt.subplot(1, 2, 1)\n",
        "plt.scatter(x[:,0],y, c='b')\n",
        "plt.title(\"Original\")\n",
        "plt.subplot(1, 2, 2)\n",
        "plt.scatter(x[:,0],x@a, c='r');\n",
        "plt.title(\"Calculated\")"
      ],
      "execution_count": 10,
      "outputs": [
        {
          "output_type": "execute_result",
          "data": {
            "text/plain": [
              "Text(0.5, 1.0, 'Calculated')"
            ]
          },
          "metadata": {
            "tags": []
          },
          "execution_count": 10
        },
        {
          "output_type": "display_data",
          "data": {
            "image/png": "[encoded data removed]",
            "text/plain": [
              "<Figure size 432x288 with 2 Axes>"
            ]
          },
          "metadata": {
            "tags": []
          }
        }
      ]
    },
    {
      "cell_type": "markdown",
      "metadata": {
        "id": "ePCf8iS_JDsh",
        "colab_type": "text"
      },
      "source": [
        "Thanks https://fast.ai for this example."
      ]
    },
    {
      "cell_type": "code",
      "metadata": {
        "id": "JE8xOtagH1HA",
        "colab_type": "code",
        "colab": {}
      },
      "source": [
        ""
      ],
      "execution_count": 0,
      "outputs": []
    },
    {
      "cell_type": "code",
      "metadata": {
        "id": "xjtkTSnbJKUK",
        "colab_type": "code",
        "colab": {}
      },
      "source": [
        ""
      ],
      "execution_count": 0,
      "outputs": []
    }
  ]
}