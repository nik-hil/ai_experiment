{
  "cells": [
    {
      "metadata": {
        "_uuid": "a418fd0fb8aa0082eb1733a2e651a2b0e98ea458"
      },
      "cell_type": "markdown",
      "source": "https://www.kaggle.com/guntherthepenguin/fastai-based-mixed-input-model-lb-3-8"
    },
    {
      "metadata": {
        "trusted": true,
        "_uuid": "272d430596a11b125241b7253c8db09755052576",
        "scrolled": true
      },
      "cell_type": "code",
      "source": "%matplotlib inline\n%reload_ext autoreload\n%autoreload 2",
      "execution_count": 2,
      "outputs": []
    },
    {
      "metadata": {
        "trusted": true,
        "_uuid": "0d3cb09a50e96701b917c8cd04bcdea3226f9d57"
      },
      "cell_type": "code",
      "source": "from IPython.lib.deepreload import reload as dreload\nimport PIL, os, numpy as np, math, collections, threading, json, bcolz, random, scipy, cv2\nimport pandas as pd, pickle, sys, itertools, string, sys, re, datetime, time, shutil, copy\nimport seaborn as sns, matplotlib\nimport IPython, graphviz, sklearn_pandas, sklearn, warnings, pdb\nimport contextlib\nfrom abc import abstractmethod\nfrom glob import glob, iglob\nfrom concurrent.futures import ThreadPoolExecutor, ProcessPoolExecutor\nfrom itertools import chain\nfrom functools import partial\nfrom collections import Iterable, Counter, OrderedDict\nfrom isoweek import Week\nfrom pandas_summary import DataFrameSummary\nfrom IPython.lib.display import FileLink\nfrom PIL import Image, ImageEnhance, ImageOps\nfrom sklearn import metrics, ensemble, preprocessing\nfrom operator import itemgetter, attrgetter\nfrom pathlib import Path\nfrom distutils.version import LooseVersion\n\nfrom matplotlib import pyplot as plt, rcParams, animation\nfrom ipywidgets import interact, interactive, fixed, widgets\nmatplotlib.rc('animation', html='html5')\nnp.set_printoptions(precision=5, linewidth=110, suppress=True)\n\nfrom ipykernel.kernelapp import IPKernelApp\ndef in_notebook(): return IPKernelApp.initialized()\n\ndef in_ipynb():\n    try:\n        cls = get_ipython().__class__.__name__\n        return cls == 'ZMQInteractiveShell'\n    except NameError:\n        return False\n\nimport tqdm as tq\nfrom tqdm import tqdm_notebook, tnrange\n\ndef clear_tqdm():\n    inst = getattr(tq.tqdm, '_instances', None)\n    if not inst: return\n    try:\n        for i in range(len(inst)): inst.pop().close()\n    except Exception:\n        pass\n\nif in_notebook():\n    def tqdm(*args, **kwargs):\n        clear_tqdm()\n        return tq.tqdm(*args, file=sys.stdout, **kwargs)\n    def trange(*args, **kwargs):\n        clear_tqdm()\n        return tq.trange(*args, file=sys.stdout, **kwargs)\nelse:\n    from tqdm import tqdm, trange\n    tnrange=trange\n    tqdm_notebook=tqdm\n\n\nfrom sklearn_pandas import DataFrameMapper\nfrom sklearn.preprocessing import LabelEncoder, Imputer, StandardScaler\nfrom pandas.api.types import is_string_dtype, is_numeric_dtype\nfrom sklearn.ensemble import forest\nfrom sklearn.tree import export_graphviz\n\n\ndef set_plot_sizes(sml, med, big):\n    plt.rc('font', size=sml)          # controls default text sizes\n    plt.rc('axes', titlesize=sml)     # fontsize of the axes title\n    plt.rc('axes', labelsize=med)    # fontsize of the x and y labels\n    plt.rc('xtick', labelsize=sml)    # fontsize of the tick labels\n    plt.rc('ytick', labelsize=sml)    # fontsize of the tick labels\n    plt.rc('legend', fontsize=sml)    # legend fontsize\n    plt.rc('figure', titlesize=big)  # fontsize of the figure title\n\ndef parallel_trees(m, fn, n_jobs=8):\n        return list(ProcessPoolExecutor(n_jobs).map(fn, m.estimators_))\n\ndef draw_tree(t, df, size=10, ratio=0.6, precision=0):\n    \"\"\"\n    \"\"\"\n    s=export_graphviz(t, out_file=None, feature_names=df.columns, filled=True,\n                      special_characters=True, rotate=True, precision=precision)\n    IPython.display.display(graphviz.Source(re.sub('Tree {',\n       f'Tree {{ size={size}; ratio={ratio}', s)))\n\ndef combine_date(years, months=1, days=1, weeks=None, hours=None, minutes=None,\n              seconds=None, milliseconds=None, microseconds=None, nanoseconds=None):\n    years = np.asarray(years) - 1970\n    months = np.asarray(months) - 1\n    days = np.asarray(days) - 1\n    types = ('<M8[Y]', '<m8[M]', '<m8[D]', '<m8[W]', '<m8[h]',\n             '<m8[m]', '<m8[s]', '<m8[ms]', '<m8[us]', '<m8[ns]')\n    vals = (years, months, days, weeks, hours, minutes, seconds,\n            milliseconds, microseconds, nanoseconds)\n    return sum(np.asarray(v, dtype=t) for t, v in zip(types, vals)\n               if v is not None)\n\ndef get_sample(df,n):\n    \"\"\"\n    \"\"\"\n    idxs = sorted(np.random.permutation(len(df))[:n])\n    return df.iloc[idxs].copy()\n\ndef add_datepart(df, fldname, drop=True, time=False, errors=\"raise\"):\t\n    \"\"\"\n    \"\"\"\n    fld = df[fldname]\n    fld_dtype = fld.dtype\n    if isinstance(fld_dtype, pd.core.dtypes.dtypes.DatetimeTZDtype):\n        fld_dtype = np.datetime64\n\n    if not np.issubdtype(fld_dtype, np.datetime64):\n        df[fldname] = fld = pd.to_datetime(fld, infer_datetime_format=True, errors=errors)\n    targ_pre = re.sub('[Dd]ate$', '', fldname)\n    attr = ['Year', 'Month', 'Week', 'Day', 'Dayofweek', 'Dayofyear',\n            'Is_month_end', 'Is_month_start', 'Is_quarter_end', 'Is_quarter_start', 'Is_year_end', 'Is_year_start']\n    if time: attr = attr + ['Hour', 'Minute', 'Second']\n    for n in attr: df[targ_pre + n] = getattr(fld.dt, n.lower())\n    df[targ_pre + 'Elapsed'] = fld.astype(np.int64) // 10 ** 9\n    if drop: df.drop(fldname, axis=1, inplace=True)\n\ndef is_date(x): return np.issubdtype(x.dtype, np.datetime64)\n\ndef train_cats(df):\n    \"\"\"\n    \"\"\"\n    for n,c in df.items():\n        if is_string_dtype(c): df[n] = c.astype('category').cat.as_ordered()\n\ndef apply_cats(df, trn):\n    \"\"\"\n    \"\"\"\n    for n,c in df.items():\n        if (n in trn.columns) and (trn[n].dtype.name=='category'):\n            df[n] = c.astype('category').cat.as_ordered()\n            df[n].cat.set_categories(trn[n].cat.categories, ordered=True, inplace=True)\n\ndef fix_missing(df, col, name, na_dict):\n    \"\"\" \n    \"\"\"\n    if is_numeric_dtype(col):\n        if pd.isnull(col).sum() or (name in na_dict):\n            df[name+'_na'] = pd.isnull(col)\n            filler = na_dict[name] if name in na_dict else col.median()\n            df[name] = col.fillna(filler)\n            na_dict[name] = filler\n    return na_dict\n\ndef numericalize(df, col, name, max_n_cat):\n    \"\"\" \n    \"\"\"\n    if not is_numeric_dtype(col) and ( max_n_cat is None or len(col.cat.categories)>max_n_cat):\n        df[name] = col.cat.codes+1\n\ndef scale_vars(df, mapper):\n    warnings.filterwarnings('ignore', category=sklearn.exceptions.DataConversionWarning)\n    if mapper is None:\n        map_f = [([n],StandardScaler()) for n in df.columns if is_numeric_dtype(df[n])]\n        mapper = DataFrameMapper(map_f).fit(df)\n    df[mapper.transformed_names_] = mapper.transform(df)\n    return mapper\n\ndef proc_df(df, y_fld=None, skip_flds=None, ignore_flds=None, do_scale=False, na_dict=None,\n            preproc_fn=None, max_n_cat=None, subset=None, mapper=None):\n    \"\"\" \n    \"\"\"\n    if not ignore_flds: ignore_flds=[]\n    if not skip_flds: skip_flds=[]\n    if subset: df = get_sample(df,subset)\n    else: df = df.copy()\n    ignored_flds = df.loc[:, ignore_flds]\n    df.drop(ignore_flds, axis=1, inplace=True)\n    if preproc_fn: preproc_fn(df)\n    if y_fld is None: y = None\n    else:\n        if not is_numeric_dtype(df[y_fld]): df[y_fld] = df[y_fld].cat.codes\n        y = df[y_fld].values\n        skip_flds += [y_fld]\n    df.drop(skip_flds, axis=1, inplace=True)\n\n    if na_dict is None: na_dict = {}\n    else: na_dict = na_dict.copy()\n    na_dict_initial = na_dict.copy()\n    for n,c in df.items(): na_dict = fix_missing(df, c, n, na_dict)\n    if len(na_dict_initial.keys()) > 0:\n        df.drop([a + '_na' for a in list(set(na_dict.keys()) - set(na_dict_initial.keys()))], axis=1, inplace=True)\n    if do_scale: mapper = scale_vars(df, mapper)\n    for n,c in df.items(): numericalize(df, c, n, max_n_cat)\n    df = pd.get_dummies(df, dummy_na=True)\n    df = pd.concat([ignored_flds, df], axis=1)\n    res = [df, y, na_dict]\n    if do_scale: res = res + [mapper]\n    return res\n\ndef rf_feat_importance(m, df):\n    return pd.DataFrame({'cols':df.columns, 'imp':m.feature_importances_}\n                       ).sort_values('imp', ascending=False)\n\ndef set_rf_samples(n):\n    \"\"\" Changes Scikit learn's random forests to give each tree a random sample of\n    n random rows.\n    \"\"\"\n    forest._generate_sample_indices = (lambda rs, n_samples:\n        forest.check_random_state(rs).randint(0, n_samples, n))\n\ndef reset_rf_samples():\n    \"\"\" Undoes the changes produced by set_rf_samples.\n    \"\"\"\n    forest._generate_sample_indices = (lambda rs, n_samples:\n        forest.check_random_state(rs).randint(0, n_samples, n_samples))\n\ndef get_nn_mappers(df, cat_vars, contin_vars):\n    # Replace nulls with 0 for continuous, \"\" for categorical.\n    for v in contin_vars: df[v] = df[v].fillna(df[v].max()+100,)\n    for v in cat_vars: df[v].fillna('#NA#', inplace=True)\n\n    # list of tuples, containing variable and instance of a transformer for that variable\n    # for categoricals, use LabelEncoder to map to integers. For continuous, standardize\n    cat_maps = [(o, LabelEncoder()) for o in cat_vars]\n    contin_maps = [([o], StandardScaler()) for o in contin_vars]\n    return DataFrameMapper(cat_maps).fit(df), DataFrameMapper(contin_maps).fit(df)",
      "execution_count": 5,
      "outputs": []
    },
    {
      "metadata": {
        "_cell_guid": "79c7e3d0-c299-4dcb-8224-4455121ee9b0",
        "_uuid": "d629ff2d2480ee46fbb7e2d37f6b5fab8052498a",
        "trusted": true
      },
      "cell_type": "code",
      "source": "path='../input/'",
      "execution_count": 6,
      "outputs": []
    },
    {
      "metadata": {
        "trusted": true,
        "_uuid": "00c46ef3366002091c18c9084ef4f8b0aeaaa7b3"
      },
      "cell_type": "code",
      "source": "new_transactions = pd.read_csv(f'{path}new_merchant_transactions.csv')\nnew_transactions.head()",
      "execution_count": 7,
      "outputs": [
        {
          "output_type": "execute_result",
          "execution_count": 7,
          "data": {
            "text/plain": "  authorized_flag          card_id     ...       state_id subsector_id\n0               Y  C_ID_415bb3a509     ...              9           19\n1               Y  C_ID_415bb3a509     ...              9           19\n2               Y  C_ID_415bb3a509     ...              9           14\n3               Y  C_ID_415bb3a509     ...             -1            8\n4               Y  C_ID_ef55cf8d4b     ...             -1           29\n\n[5 rows x 14 columns]",
            "text/html": "<div>\n<style scoped>\n    .dataframe tbody tr th:only-of-type {\n        vertical-align: middle;\n    }\n\n    .dataframe tbody tr th {\n        vertical-align: top;\n    }\n\n    .dataframe thead th {\n        text-align: right;\n    }\n</style>\n<table border=\"1\" class=\"dataframe\">\n  <thead>\n    <tr style=\"text-align: right;\">\n      <th></th>\n      <th>authorized_flag</th>\n      <th>card_id</th>\n      <th>city_id</th>\n      <th>category_1</th>\n      <th>installments</th>\n      <th>category_3</th>\n      <th>merchant_category_id</th>\n      <th>merchant_id</th>\n      <th>month_lag</th>\n      <th>purchase_amount</th>\n      <th>purchase_date</th>\n      <th>category_2</th>\n      <th>state_id</th>\n      <th>subsector_id</th>\n    </tr>\n  </thead>\n  <tbody>\n    <tr>\n      <th>0</th>\n      <td>Y</td>\n      <td>C_ID_415bb3a509</td>\n      <td>107</td>\n      <td>N</td>\n      <td>1</td>\n      <td>B</td>\n      <td>307</td>\n      <td>M_ID_b0c793002c</td>\n      <td>1</td>\n      <td>-0.557574</td>\n      <td>2018-03-11 14:57:36</td>\n      <td>1.0</td>\n      <td>9</td>\n      <td>19</td>\n    </tr>\n    <tr>\n      <th>1</th>\n      <td>Y</td>\n      <td>C_ID_415bb3a509</td>\n      <td>140</td>\n      <td>N</td>\n      <td>1</td>\n      <td>B</td>\n      <td>307</td>\n      <td>M_ID_88920c89e8</td>\n      <td>1</td>\n      <td>-0.569580</td>\n      <td>2018-03-19 18:53:37</td>\n      <td>1.0</td>\n      <td>9</td>\n      <td>19</td>\n    </tr>\n    <tr>\n      <th>2</th>\n      <td>Y</td>\n      <td>C_ID_415bb3a509</td>\n      <td>330</td>\n      <td>N</td>\n      <td>1</td>\n      <td>B</td>\n      <td>507</td>\n      <td>M_ID_ad5237ef6b</td>\n      <td>2</td>\n      <td>-0.551037</td>\n      <td>2018-04-26 14:08:44</td>\n      <td>1.0</td>\n      <td>9</td>\n      <td>14</td>\n    </tr>\n    <tr>\n      <th>3</th>\n      <td>Y</td>\n      <td>C_ID_415bb3a509</td>\n      <td>-1</td>\n      <td>Y</td>\n      <td>1</td>\n      <td>B</td>\n      <td>661</td>\n      <td>M_ID_9e84cda3b1</td>\n      <td>1</td>\n      <td>-0.671925</td>\n      <td>2018-03-07 09:43:21</td>\n      <td>NaN</td>\n      <td>-1</td>\n      <td>8</td>\n    </tr>\n    <tr>\n      <th>4</th>\n      <td>Y</td>\n      <td>C_ID_ef55cf8d4b</td>\n      <td>-1</td>\n      <td>Y</td>\n      <td>1</td>\n      <td>B</td>\n      <td>166</td>\n      <td>M_ID_3c86fa3831</td>\n      <td>1</td>\n      <td>-0.659904</td>\n      <td>2018-03-22 21:07:53</td>\n      <td>NaN</td>\n      <td>-1</td>\n      <td>29</td>\n    </tr>\n  </tbody>\n</table>\n</div>"
          },
          "metadata": {}
        }
      ]
    },
    {
      "metadata": {
        "trusted": true,
        "_uuid": "0d3551386a1529cd9cd8d025836a3454e3e2db16"
      },
      "cell_type": "code",
      "source": "new_transactions['authorized_flag'] = new_transactions['authorized_flag']=='Y'",
      "execution_count": 8,
      "outputs": []
    },
    {
      "metadata": {
        "trusted": true,
        "_uuid": "9a524cd24bf3fc1c50cf58c3972f1b212fa13642"
      },
      "cell_type": "code",
      "source": "def aggregate_new_transactions(new_trans):    \n    agg_func = {\n        'authorized_flag': ['sum', 'mean'],\n        'merchant_id': ['nunique'],\n        'city_id': ['nunique'],\n        'purchase_amount': ['sum', 'median', 'max', 'min', 'std'],\n        'installments': ['sum', 'median', 'max', 'min', 'std'],\n        'month_lag': ['min', 'max']\n        }\n    agg_new_trans = new_trans.groupby(['card_id']).agg(agg_func)\n    agg_new_trans.columns = ['new_' + '_'.join(col).strip() \n                           for col in agg_new_trans.columns.values]\n    agg_new_trans.reset_index(inplace=True)\n    \n    df = (new_trans.groupby('card_id')\n          .size()\n          .reset_index(name='new_transactions_count'))\n    \n    agg_new_trans = pd.merge(df, agg_new_trans, on='card_id', how='left')\n    \n    return agg_new_trans\n\nnew_trans = aggregate_new_transactions(new_transactions)\nnew_trans.head()",
      "execution_count": 9,
      "outputs": [
        {
          "output_type": "execute_result",
          "execution_count": 9,
          "data": {
            "text/plain": "           card_id        ...          new_month_lag_max\n0  C_ID_00007093c1        ...                          2\n1  C_ID_0001238066        ...                          2\n2  C_ID_0001506ef0        ...                          1\n3  C_ID_0001793786        ...                          2\n4  C_ID_000183fdda        ...                          2\n\n[5 rows x 18 columns]",
            "text/html": "<div>\n<style scoped>\n    .dataframe tbody tr th:only-of-type {\n        vertical-align: middle;\n    }\n\n    .dataframe tbody tr th {\n        vertical-align: top;\n    }\n\n    .dataframe thead th {\n        text-align: right;\n    }\n</style>\n<table border=\"1\" class=\"dataframe\">\n  <thead>\n    <tr style=\"text-align: right;\">\n      <th></th>\n      <th>card_id</th>\n      <th>new_transactions_count</th>\n      <th>new_authorized_flag_sum</th>\n      <th>new_authorized_flag_mean</th>\n      <th>new_merchant_id_nunique</th>\n      <th>new_city_id_nunique</th>\n      <th>new_purchase_amount_sum</th>\n      <th>new_purchase_amount_median</th>\n      <th>new_purchase_amount_max</th>\n      <th>new_purchase_amount_min</th>\n      <th>new_purchase_amount_std</th>\n      <th>new_installments_sum</th>\n      <th>new_installments_median</th>\n      <th>new_installments_max</th>\n      <th>new_installments_min</th>\n      <th>new_installments_std</th>\n      <th>new_month_lag_min</th>\n      <th>new_month_lag_max</th>\n    </tr>\n  </thead>\n  <tbody>\n    <tr>\n      <th>0</th>\n      <td>C_ID_00007093c1</td>\n      <td>2</td>\n      <td>2.0</td>\n      <td>True</td>\n      <td>2</td>\n      <td>2</td>\n      <td>-1.328524</td>\n      <td>-0.664262</td>\n      <td>-0.656749</td>\n      <td>-0.671775</td>\n      <td>0.010625</td>\n      <td>2</td>\n      <td>1.0</td>\n      <td>1</td>\n      <td>1</td>\n      <td>0.000000</td>\n      <td>2</td>\n      <td>2</td>\n    </tr>\n    <tr>\n      <th>1</th>\n      <td>C_ID_0001238066</td>\n      <td>26</td>\n      <td>26.0</td>\n      <td>True</td>\n      <td>25</td>\n      <td>8</td>\n      <td>-14.850055</td>\n      <td>-0.649235</td>\n      <td>-0.078318</td>\n      <td>-0.740897</td>\n      <td>0.173436</td>\n      <td>42</td>\n      <td>1.0</td>\n      <td>10</td>\n      <td>-1</td>\n      <td>2.079941</td>\n      <td>1</td>\n      <td>2</td>\n    </tr>\n    <tr>\n      <th>2</th>\n      <td>C_ID_0001506ef0</td>\n      <td>2</td>\n      <td>2.0</td>\n      <td>True</td>\n      <td>1</td>\n      <td>1</td>\n      <td>-1.447354</td>\n      <td>-0.723677</td>\n      <td>-0.715352</td>\n      <td>-0.732001</td>\n      <td>0.011773</td>\n      <td>0</td>\n      <td>0.0</td>\n      <td>0</td>\n      <td>0</td>\n      <td>0.000000</td>\n      <td>1</td>\n      <td>1</td>\n    </tr>\n    <tr>\n      <th>3</th>\n      <td>C_ID_0001793786</td>\n      <td>31</td>\n      <td>31.0</td>\n      <td>True</td>\n      <td>31</td>\n      <td>7</td>\n      <td>-0.229620</td>\n      <td>-0.372748</td>\n      <td>3.129932</td>\n      <td>-0.737892</td>\n      <td>0.947223</td>\n      <td>0</td>\n      <td>0.0</td>\n      <td>0</td>\n      <td>0</td>\n      <td>0.000000</td>\n      <td>1</td>\n      <td>2</td>\n    </tr>\n    <tr>\n      <th>4</th>\n      <td>C_ID_000183fdda</td>\n      <td>11</td>\n      <td>11.0</td>\n      <td>True</td>\n      <td>11</td>\n      <td>2</td>\n      <td>-6.590778</td>\n      <td>-0.665765</td>\n      <td>-0.107680</td>\n      <td>-0.732332</td>\n      <td>0.182877</td>\n      <td>16</td>\n      <td>1.0</td>\n      <td>4</td>\n      <td>-1</td>\n      <td>1.293340</td>\n      <td>1</td>\n      <td>2</td>\n    </tr>\n  </tbody>\n</table>\n</div>"
          },
          "metadata": {}
        }
      ]
    },
    {
      "metadata": {
        "trusted": true,
        "_uuid": "9a524cd24bf3fc1c50cf58c3972f1b212fa13642"
      },
      "cell_type": "code",
      "source": "del new_transactions",
      "execution_count": 10,
      "outputs": []
    },
    {
      "metadata": {
        "trusted": true,
        "_uuid": "d98e1277cad1d8d7cbf4fbce88d7567010cc56b3"
      },
      "cell_type": "code",
      "source": "historical_transactions = pd.read_csv('../input/historical_transactions.csv')\nhistorical_transactions.head()",
      "execution_count": 11,
      "outputs": [
        {
          "output_type": "execute_result",
          "execution_count": 11,
          "data": {
            "text/plain": "  authorized_flag          card_id     ...       state_id subsector_id\n0               Y  C_ID_4e6213e9bc     ...             16           37\n1               Y  C_ID_4e6213e9bc     ...             16           16\n2               Y  C_ID_4e6213e9bc     ...             16           37\n3               Y  C_ID_4e6213e9bc     ...             16           34\n4               Y  C_ID_4e6213e9bc     ...             16           37\n\n[5 rows x 14 columns]",
            "text/html": "<div>\n<style scoped>\n    .dataframe tbody tr th:only-of-type {\n        vertical-align: middle;\n    }\n\n    .dataframe tbody tr th {\n        vertical-align: top;\n    }\n\n    .dataframe thead th {\n        text-align: right;\n    }\n</style>\n<table border=\"1\" class=\"dataframe\">\n  <thead>\n    <tr style=\"text-align: right;\">\n      <th></th>\n      <th>authorized_flag</th>\n      <th>card_id</th>\n      <th>city_id</th>\n      <th>category_1</th>\n      <th>installments</th>\n      <th>category_3</th>\n      <th>merchant_category_id</th>\n      <th>merchant_id</th>\n      <th>month_lag</th>\n      <th>purchase_amount</th>\n      <th>purchase_date</th>\n      <th>category_2</th>\n      <th>state_id</th>\n      <th>subsector_id</th>\n    </tr>\n  </thead>\n  <tbody>\n    <tr>\n      <th>0</th>\n      <td>Y</td>\n      <td>C_ID_4e6213e9bc</td>\n      <td>88</td>\n      <td>N</td>\n      <td>0</td>\n      <td>A</td>\n      <td>80</td>\n      <td>M_ID_e020e9b302</td>\n      <td>-8</td>\n      <td>-0.703331</td>\n      <td>2017-06-25 15:33:07</td>\n      <td>1.0</td>\n      <td>16</td>\n      <td>37</td>\n    </tr>\n    <tr>\n      <th>1</th>\n      <td>Y</td>\n      <td>C_ID_4e6213e9bc</td>\n      <td>88</td>\n      <td>N</td>\n      <td>0</td>\n      <td>A</td>\n      <td>367</td>\n      <td>M_ID_86ec983688</td>\n      <td>-7</td>\n      <td>-0.733128</td>\n      <td>2017-07-15 12:10:45</td>\n      <td>1.0</td>\n      <td>16</td>\n      <td>16</td>\n    </tr>\n    <tr>\n      <th>2</th>\n      <td>Y</td>\n      <td>C_ID_4e6213e9bc</td>\n      <td>88</td>\n      <td>N</td>\n      <td>0</td>\n      <td>A</td>\n      <td>80</td>\n      <td>M_ID_979ed661fc</td>\n      <td>-6</td>\n      <td>-0.720386</td>\n      <td>2017-08-09 22:04:29</td>\n      <td>1.0</td>\n      <td>16</td>\n      <td>37</td>\n    </tr>\n    <tr>\n      <th>3</th>\n      <td>Y</td>\n      <td>C_ID_4e6213e9bc</td>\n      <td>88</td>\n      <td>N</td>\n      <td>0</td>\n      <td>A</td>\n      <td>560</td>\n      <td>M_ID_e6d5ae8ea6</td>\n      <td>-5</td>\n      <td>-0.735352</td>\n      <td>2017-09-02 10:06:26</td>\n      <td>1.0</td>\n      <td>16</td>\n      <td>34</td>\n    </tr>\n    <tr>\n      <th>4</th>\n      <td>Y</td>\n      <td>C_ID_4e6213e9bc</td>\n      <td>88</td>\n      <td>N</td>\n      <td>0</td>\n      <td>A</td>\n      <td>80</td>\n      <td>M_ID_e020e9b302</td>\n      <td>-11</td>\n      <td>-0.722865</td>\n      <td>2017-03-10 01:14:19</td>\n      <td>1.0</td>\n      <td>16</td>\n      <td>37</td>\n    </tr>\n  </tbody>\n</table>\n</div>"
          },
          "metadata": {}
        }
      ]
    },
    {
      "metadata": {
        "trusted": true,
        "_uuid": "11f02fc8752e241850e0564d46d9901cc1458632"
      },
      "cell_type": "code",
      "source": "historical_transactions['authorized_flag'] = historical_transactions['authorized_flag']=='Y'",
      "execution_count": 12,
      "outputs": []
    },
    {
      "metadata": {
        "trusted": true,
        "_uuid": "3f5d75bc3d47dab9d1f30bc261e1193ff670f8cf"
      },
      "cell_type": "code",
      "source": "def aggregate_historical_transactions(history):\n    \n    history.loc[:, 'purchase_date'] = pd.DatetimeIndex(history['purchase_date']).\\\n                                      astype(np.int64) * 1e-9\n    \n    agg_func = {\n        'authorized_flag': ['sum', 'mean'],\n        'merchant_id': ['nunique'],\n        'city_id': ['nunique'],\n        'purchase_amount': ['sum', 'median', 'max', 'min', 'std'],\n        'installments': ['sum', 'median', 'max', 'min', 'std'],\n        'purchase_date': [np.ptp],\n        'month_lag': ['min', 'max']\n        }\n    agg_history = history.groupby(['card_id']).agg(agg_func)\n    agg_history.columns = ['hist_' + '_'.join(col).strip() \n                           for col in agg_history.columns.values]\n    agg_history.reset_index(inplace=True)\n    \n    df = (history.groupby('card_id')\n          .size()\n          .reset_index(name='hist_transactions_count'))\n    \n    agg_history = pd.merge(df, agg_history, on='card_id', how='left')\n    \n    return agg_history\n\nhistory = aggregate_historical_transactions(historical_transactions)\nhistory.head()",
      "execution_count": 13,
      "outputs": [
        {
          "output_type": "execute_result",
          "execution_count": 13,
          "data": {
            "text/plain": "           card_id         ...          hist_month_lag_max\n0  C_ID_00007093c1         ...                           0\n1  C_ID_0001238066         ...                           0\n2  C_ID_0001506ef0         ...                           0\n3  C_ID_0001793786         ...                           0\n4  C_ID_000183fdda         ...                           0\n\n[5 rows x 19 columns]",
            "text/html": "<div>\n<style scoped>\n    .dataframe tbody tr th:only-of-type {\n        vertical-align: middle;\n    }\n\n    .dataframe tbody tr th {\n        vertical-align: top;\n    }\n\n    .dataframe thead th {\n        text-align: right;\n    }\n</style>\n<table border=\"1\" class=\"dataframe\">\n  <thead>\n    <tr style=\"text-align: right;\">\n      <th></th>\n      <th>card_id</th>\n      <th>hist_transactions_count</th>\n      <th>hist_authorized_flag_sum</th>\n      <th>hist_authorized_flag_mean</th>\n      <th>hist_merchant_id_nunique</th>\n      <th>hist_city_id_nunique</th>\n      <th>hist_purchase_amount_sum</th>\n      <th>hist_purchase_amount_median</th>\n      <th>hist_purchase_amount_max</th>\n      <th>hist_purchase_amount_min</th>\n      <th>hist_purchase_amount_std</th>\n      <th>hist_installments_sum</th>\n      <th>hist_installments_median</th>\n      <th>hist_installments_max</th>\n      <th>hist_installments_min</th>\n      <th>hist_installments_std</th>\n      <th>hist_purchase_date_ptp</th>\n      <th>hist_month_lag_min</th>\n      <th>hist_month_lag_max</th>\n    </tr>\n  </thead>\n  <tbody>\n    <tr>\n      <th>0</th>\n      <td>C_ID_00007093c1</td>\n      <td>149</td>\n      <td>114.0</td>\n      <td>0.765101</td>\n      <td>29</td>\n      <td>4</td>\n      <td>-76.845041</td>\n      <td>-0.587627</td>\n      <td>1.507069</td>\n      <td>-0.728876</td>\n      <td>0.298141</td>\n      <td>192</td>\n      <td>1.0</td>\n      <td>6</td>\n      <td>1</td>\n      <td>0.764900</td>\n      <td>32627654.0</td>\n      <td>-12</td>\n      <td>0</td>\n    </tr>\n    <tr>\n      <th>1</th>\n      <td>C_ID_0001238066</td>\n      <td>123</td>\n      <td>120.0</td>\n      <td>0.975610</td>\n      <td>65</td>\n      <td>18</td>\n      <td>-72.447201</td>\n      <td>-0.648184</td>\n      <td>0.768095</td>\n      <td>-0.734887</td>\n      <td>0.190235</td>\n      <td>198</td>\n      <td>1.0</td>\n      <td>10</td>\n      <td>-1</td>\n      <td>1.485637</td>\n      <td>13110825.0</td>\n      <td>-5</td>\n      <td>0</td>\n    </tr>\n    <tr>\n      <th>2</th>\n      <td>C_ID_0001506ef0</td>\n      <td>66</td>\n      <td>62.0</td>\n      <td>0.939394</td>\n      <td>28</td>\n      <td>3</td>\n      <td>-34.601879</td>\n      <td>-0.703707</td>\n      <td>1.493545</td>\n      <td>-0.740491</td>\n      <td>0.472284</td>\n      <td>1</td>\n      <td>0.0</td>\n      <td>1</td>\n      <td>0</td>\n      <td>0.123091</td>\n      <td>34460275.0</td>\n      <td>-13</td>\n      <td>0</td>\n    </tr>\n    <tr>\n      <th>3</th>\n      <td>C_ID_0001793786</td>\n      <td>216</td>\n      <td>189.0</td>\n      <td>0.875000</td>\n      <td>119</td>\n      <td>10</td>\n      <td>-36.786013</td>\n      <td>-0.487911</td>\n      <td>4.554145</td>\n      <td>-0.745405</td>\n      <td>0.836046</td>\n      <td>5</td>\n      <td>0.0</td>\n      <td>1</td>\n      <td>0</td>\n      <td>0.150723</td>\n      <td>24487497.0</td>\n      <td>-9</td>\n      <td>0</td>\n    </tr>\n    <tr>\n      <th>4</th>\n      <td>C_ID_000183fdda</td>\n      <td>144</td>\n      <td>137.0</td>\n      <td>0.951389</td>\n      <td>73</td>\n      <td>9</td>\n      <td>-68.837938</td>\n      <td>-0.661294</td>\n      <td>2.764788</td>\n      <td>-0.737892</td>\n      <td>0.524948</td>\n      <td>264</td>\n      <td>1.0</td>\n      <td>10</td>\n      <td>-1</td>\n      <td>2.118846</td>\n      <td>17492874.0</td>\n      <td>-6</td>\n      <td>0</td>\n    </tr>\n  </tbody>\n</table>\n</div>"
          },
          "metadata": {}
        }
      ]
    },
    {
      "metadata": {
        "trusted": true,
        "_uuid": "3f5d75bc3d47dab9d1f30bc261e1193ff670f8cf"
      },
      "cell_type": "code",
      "source": "del historical_transactions",
      "execution_count": 14,
      "outputs": []
    },
    {
      "metadata": {
        "trusted": true,
        "_uuid": "7cde0aaa9db4eb265f626510e7415e78d051c962"
      },
      "cell_type": "code",
      "source": "def read_data(input_file):\n    df = pd.read_csv(input_file)\n    add_datepart(df,'first_active_month')\n    return df\ntrain = read_data('../input/train.csv')\ntest = read_data('../input/test.csv')\n\ntarget='target'\n",
      "execution_count": 15,
      "outputs": []
    },
    {
      "metadata": {
        "trusted": true,
        "_uuid": "863b5a324fc6944f95508d1ce900ea6037e7fbc3"
      },
      "cell_type": "code",
      "source": "train = pd.merge(train, history, on='card_id', how='left')\ntest = pd.merge(test, history, on='card_id', how='left')\n\ntrain = pd.merge(train, new_trans, on='card_id', how='left')\ntest = pd.merge(test, new_trans, on='card_id', how='left')",
      "execution_count": 16,
      "outputs": []
    },
    {
      "metadata": {
        "trusted": true,
        "_uuid": "22167f5a0795b1c7aa51e9e972421956f84bdca8"
      },
      "cell_type": "code",
      "source": "train=train.set_index('card_id')\ntest=test.set_index('card_id')",
      "execution_count": 17,
      "outputs": []
    },
    {
      "metadata": {
        "trusted": true,
        "_uuid": "05ebac39e6e97e81c1218820c1f80c447b306817"
      },
      "cell_type": "code",
      "source": "cat_vars = [col  for col in train.columns if('feature' in col or 'first_active_month' in col)]\ncontin_vars = [col  for col in train.columns if ('feature' not in col and 'first_active_month' not in col) and target not in col]",
      "execution_count": 18,
      "outputs": []
    },
    {
      "metadata": {
        "trusted": true,
        "_uuid": "1e0051d1c6ca5604d2dc0a505a9fae627a37750a"
      },
      "cell_type": "code",
      "source": "train = train[cat_vars+contin_vars+[target]].copy()\nn = len(train); n",
      "execution_count": 19,
      "outputs": [
        {
          "output_type": "execute_result",
          "execution_count": 19,
          "data": {
            "text/plain": "201917"
          },
          "metadata": {}
        }
      ]
    },
    {
      "metadata": {
        "trusted": true,
        "_uuid": "c2f4d90fbfc83bd63b3c6d45c9f8053d9d26bccf"
      },
      "cell_type": "code",
      "source": "test[target] = 0\ntest = test[cat_vars+contin_vars+[target]].copy()",
      "execution_count": 20,
      "outputs": []
    },
    {
      "metadata": {
        "trusted": true,
        "_uuid": "85a1ce6f2b320728f7d5990c62226856cf6a5497"
      },
      "cell_type": "code",
      "source": "for v in cat_vars: train[v] = train[v].astype('category').cat.as_ordered()\napply_cats(test, train)",
      "execution_count": 21,
      "outputs": []
    },
    {
      "metadata": {
        "trusted": true,
        "_uuid": "a505d3780ecc69b71fea1b05847f301fe57d18ce"
      },
      "cell_type": "code",
      "source": "for v in contin_vars:\n    train[v] = train[v].fillna(0).astype('float32')\n    test[v] = test[v].fillna(0).astype('float32')",
      "execution_count": 22,
      "outputs": []
    },
    {
      "metadata": {
        "trusted": true,
        "_uuid": "b301b16938b07d50a9de17d2fd64f35c54f2cae5"
      },
      "cell_type": "code",
      "source": "df_trn, y, nas, mapper = proc_df(train, target, do_scale=True)\nn=len(df);n",
      "execution_count": 25,
      "outputs": [
        {
          "output_type": "execute_result",
          "execution_count": 25,
          "data": {
            "text/plain": "201917"
          },
          "metadata": {}
        }
      ]
    },
    {
      "metadata": {
        "trusted": true,
        "_uuid": "d605c88c6f03c3c0c771654e870acac4e17e4160"
      },
      "cell_type": "code",
      "source": "df_test, _, nas, mapper = proc_df(test, target, do_scale=True, \n                                  mapper=mapper, na_dict=nas)",
      "execution_count": 39,
      "outputs": []
    },
    {
      "metadata": {
        "trusted": true,
        "_uuid": "9de39cf20e8f023d8460c11584c6972716311938"
      },
      "cell_type": "code",
      "source": "def split_vals(a,n): \n    return a[:n].copy(), a[n:].copy()\n\n\n\nn_valid = int(len(df_trn) * .25)\nn_trn = len(df_trn)-n_valid\n# raw_train, raw_valid = split_vals(df_raw, n_trn)\nX_train, X_valid = split_vals(df_trn, n_trn)\ny_train, y_valid = split_vals(y, n_trn)\n\nX_train.shape, y_train.shape, X_valid.shape",
      "execution_count": 27,
      "outputs": [
        {
          "output_type": "execute_result",
          "execution_count": 27,
          "data": {
            "text/plain": "((151438, 51), (151438,), (50479, 51))"
          },
          "metadata": {}
        }
      ]
    },
    {
      "metadata": {
        "trusted": true,
        "_uuid": "a4fe610aa2ffdcae19b9d5abfa4f528c871c05b4"
      },
      "cell_type": "code",
      "source": "def rmse(x,y): return math.sqrt(((x-y)**2).mean())\n\ndef print_score(m):\n    res = [rmse(m.predict(X_train), y_train), rmse(m.predict(X_valid), y_valid),\n                m.score(X_train, y_train), m.score(X_valid, y_valid)]\n    if hasattr(m, 'oob_score_'): res.append(m.oob_score_)\n    print(res)",
      "execution_count": 28,
      "outputs": []
    },
    {
      "metadata": {
        "trusted": true,
        "_uuid": "98043af77624f33cafc8bad26aa5388b8beac470"
      },
      "cell_type": "code",
      "source": "from sklearn.ensemble import RandomForestRegressor, RandomForestClassifier\nfrom sklearn import metrics",
      "execution_count": 30,
      "outputs": []
    },
    {
      "metadata": {
        "trusted": true,
        "_uuid": "0481d54503011d726ec7eb0a1ec03b5910c35794"
      },
      "cell_type": "code",
      "source": "m = RandomForestRegressor(n_estimators=1, max_depth=3, bootstrap=False, n_jobs=-1)\nm.fit(X_train, y_train)\nprint_score(m)",
      "execution_count": 32,
      "outputs": [
        {
          "output_type": "stream",
          "text": "[3.7814881014308206, 3.9165634599025725, 0.017853889365444964, 0.0183225860652817]\n",
          "name": "stdout"
        }
      ]
    },
    {
      "metadata": {
        "trusted": true,
        "_uuid": "5de1785f6a550363a0180f97893c5f61a38070c5"
      },
      "cell_type": "code",
      "source": "draw_tree(m.estimators_[0], df_trn, precision=3)",
      "execution_count": 33,
      "outputs": [
        {
          "output_type": "display_data",
          "data": {
            "text/plain": "<graphviz.files.Source at 0x7fb3a87820b8>",
            "image/svg+xml": "<?xml version=\"1.0\" encoding=\"UTF-8\" standalone=\"no\"?>\n<!DOCTYPE svg PUBLIC \"-//W3C//DTD SVG 1.1//EN\"\n \"http://www.w3.org/Graphics/SVG/1.1/DTD/svg11.dtd\">\n<!-- Generated by graphviz version 2.38.0 (20140413.2041)\n -->\n<!-- Title: Tree Pages: 1 -->\n<svg width=\"720pt\" height=\"434pt\"\n viewBox=\"0.00 0.00 720.00 434.49\" xmlns=\"http://www.w3.org/2000/svg\" xmlns:xlink=\"http://www.w3.org/1999/xlink\">\n<g id=\"graph0\" class=\"graph\" transform=\"scale(0.778659 0.778659) rotate(0) translate(4 554)\">\n<title>Tree</title>\n<polygon fill=\"white\" stroke=\"none\" points=\"-4,4 -4,-554 920.667,-554 920.667,4 -4,4\"/>\n<!-- 0 -->\n<g id=\"node1\" class=\"node\"><title>0</title>\n<polygon fill=\"#e58139\" fill-opacity=\"0.494118\" stroke=\"black\" points=\"223.167,-308.5 8.16667,-308.5 8.16667,-240.5 223.167,-240.5 223.167,-308.5\"/>\n<text text-anchor=\"start\" x=\"16.1667\" y=\"-293.3\" font-family=\"Times,serif\" font-size=\"14.00\">new_purchase_amount_std ≤ &#45;0.254</text>\n<text text-anchor=\"start\" x=\"80.6667\" y=\"-278.3\" font-family=\"Times,serif\" font-size=\"14.00\">mse = 14.56</text>\n<text text-anchor=\"start\" x=\"65.1667\" y=\"-263.3\" font-family=\"Times,serif\" font-size=\"14.00\">samples = 151438</text>\n<text text-anchor=\"start\" x=\"75.1667\" y=\"-248.3\" font-family=\"Times,serif\" font-size=\"14.00\">value = &#45;0.387</text>\n</g>\n<!-- 1 -->\n<g id=\"node2\" class=\"node\"><title>1</title>\n<polygon fill=\"#e58139\" fill-opacity=\"0.658824\" stroke=\"black\" points=\"479.667,-361.5 277.667,-361.5 277.667,-293.5 479.667,-293.5 479.667,-361.5\"/>\n<text text-anchor=\"start\" x=\"285.667\" y=\"-346.3\" font-family=\"Times,serif\" font-size=\"14.00\">first_active_monthElapsed ≤ 67.5</text>\n<text text-anchor=\"start\" x=\"340.667\" y=\"-331.3\" font-family=\"Times,serif\" font-size=\"14.00\">mse = 19.946</text>\n<text text-anchor=\"start\" x=\"331.667\" y=\"-316.3\" font-family=\"Times,serif\" font-size=\"14.00\">samples = 67290</text>\n<text text-anchor=\"start\" x=\"338.167\" y=\"-301.3\" font-family=\"Times,serif\" font-size=\"14.00\">value = &#45;0.077</text>\n</g>\n<!-- 0&#45;&gt;1 -->\n<g id=\"edge1\" class=\"edge\"><title>0&#45;&gt;1</title>\n<path fill=\"none\" stroke=\"black\" d=\"M223.202,-296.134C237.747,-299.087 252.703,-302.124 267.314,-305.091\"/>\n<polygon fill=\"black\" stroke=\"black\" points=\"266.868,-308.572 277.365,-307.132 268.261,-301.712 266.868,-308.572\"/>\n<text text-anchor=\"middle\" x=\"256.523\" y=\"-317.238\" font-family=\"Times,serif\" font-size=\"14.00\">True</text>\n</g>\n<!-- 8 -->\n<g id=\"node9\" class=\"node\"><title>8</title>\n<polygon fill=\"#e58139\" fill-opacity=\"0.364706\" stroke=\"black\" points=\"479.667,-255.5 277.667,-255.5 277.667,-187.5 479.667,-187.5 479.667,-255.5\"/>\n<text text-anchor=\"start\" x=\"285.667\" y=\"-240.3\" font-family=\"Times,serif\" font-size=\"14.00\">first_active_monthElapsed ≤ 65.5</text>\n<text text-anchor=\"start\" x=\"340.667\" y=\"-225.3\" font-family=\"Times,serif\" font-size=\"14.00\">mse = 10.114</text>\n<text text-anchor=\"start\" x=\"331.667\" y=\"-210.3\" font-family=\"Times,serif\" font-size=\"14.00\">samples = 84148</text>\n<text text-anchor=\"start\" x=\"338.167\" y=\"-195.3\" font-family=\"Times,serif\" font-size=\"14.00\">value = &#45;0.635</text>\n</g>\n<!-- 0&#45;&gt;8 -->\n<g id=\"edge8\" class=\"edge\"><title>0&#45;&gt;8</title>\n<path fill=\"none\" stroke=\"black\" d=\"M223.202,-252.866C237.747,-249.913 252.703,-246.876 267.314,-243.909\"/>\n<polygon fill=\"black\" stroke=\"black\" points=\"268.261,-247.288 277.365,-241.868 266.868,-240.428 268.261,-247.288\"/>\n<text text-anchor=\"middle\" x=\"256.523\" y=\"-224.362\" font-family=\"Times,serif\" font-size=\"14.00\">False</text>\n</g>\n<!-- 2 -->\n<g id=\"node3\" class=\"node\"><title>2</title>\n<polygon fill=\"#e58139\" fill-opacity=\"0.560784\" stroke=\"black\" points=\"733.167,-486.5 552.167,-486.5 552.167,-418.5 733.167,-418.5 733.167,-486.5\"/>\n<text text-anchor=\"start\" x=\"560.167\" y=\"-471.3\" font-family=\"Times,serif\" font-size=\"14.00\">hist_month_lag_min ≤ &#45;0.942</text>\n<text text-anchor=\"start\" x=\"604.667\" y=\"-456.3\" font-family=\"Times,serif\" font-size=\"14.00\">mse = 25.717</text>\n<text text-anchor=\"start\" x=\"595.667\" y=\"-441.3\" font-family=\"Times,serif\" font-size=\"14.00\">samples = 45576</text>\n<text text-anchor=\"start\" x=\"602.167\" y=\"-426.3\" font-family=\"Times,serif\" font-size=\"14.00\">value = &#45;0.259</text>\n</g>\n<!-- 1&#45;&gt;2 -->\n<g id=\"edge2\" class=\"edge\"><title>1&#45;&gt;2</title>\n<path fill=\"none\" stroke=\"black\" d=\"M451.259,-361.657C485.195,-377.848 525.879,-397.258 560.913,-413.972\"/>\n<polygon fill=\"black\" stroke=\"black\" points=\"559.628,-417.237 570.161,-418.384 562.642,-410.92 559.628,-417.237\"/>\n</g>\n<!-- 5 -->\n<g id=\"node6\" class=\"node\"><title>5</title>\n<polygon fill=\"#e58139\" fill-opacity=\"0.858824\" stroke=\"black\" points=\"751.667,-361.5 533.667,-361.5 533.667,-293.5 751.667,-293.5 751.667,-361.5\"/>\n<text text-anchor=\"start\" x=\"541.667\" y=\"-346.3\" font-family=\"Times,serif\" font-size=\"14.00\">new_purchase_amount_sum ≤ 0.339</text>\n<text text-anchor=\"start\" x=\"607.667\" y=\"-331.3\" font-family=\"Times,serif\" font-size=\"14.00\">mse = 7.618</text>\n<text text-anchor=\"start\" x=\"595.667\" y=\"-316.3\" font-family=\"Times,serif\" font-size=\"14.00\">samples = 21714</text>\n<text text-anchor=\"start\" x=\"604.667\" y=\"-301.3\" font-family=\"Times,serif\" font-size=\"14.00\">value = 0.306</text>\n</g>\n<!-- 1&#45;&gt;5 -->\n<g id=\"edge5\" class=\"edge\"><title>1&#45;&gt;5</title>\n<path fill=\"none\" stroke=\"black\" d=\"M479.839,-327.5C494.041,-327.5 508.756,-327.5 523.263,-327.5\"/>\n<polygon fill=\"black\" stroke=\"black\" points=\"523.264,-331 533.264,-327.5 523.264,-324 523.264,-331\"/>\n</g>\n<!-- 3 -->\n<g id=\"node4\" class=\"node\"><title>3</title>\n<polygon fill=\"#e58139\" fill-opacity=\"0.780392\" stroke=\"black\" points=\"912.667,-550 802.667,-550 802.667,-497 912.667,-497 912.667,-550\"/>\n<text text-anchor=\"start\" x=\"819.667\" y=\"-534.8\" font-family=\"Times,serif\" font-size=\"14.00\">mse = 12.522</text>\n<text text-anchor=\"start\" x=\"810.667\" y=\"-519.8\" font-family=\"Times,serif\" font-size=\"14.00\">samples = 20495</text>\n<text text-anchor=\"start\" x=\"819.667\" y=\"-504.8\" font-family=\"Times,serif\" font-size=\"14.00\">value = 0.157</text>\n</g>\n<!-- 2&#45;&gt;3 -->\n<g id=\"edge3\" class=\"edge\"><title>2&#45;&gt;3</title>\n<path fill=\"none\" stroke=\"black\" d=\"M733.381,-482.405C753.422,-489.085 774.277,-496.037 793.009,-502.281\"/>\n<polygon fill=\"black\" stroke=\"black\" points=\"792.002,-505.635 802.596,-505.476 794.216,-498.994 792.002,-505.635\"/>\n</g>\n<!-- 4 -->\n<g id=\"node5\" class=\"node\"><title>4</title>\n<polygon fill=\"#e58139\" fill-opacity=\"0.384314\" stroke=\"black\" points=\"912.667,-479 802.667,-479 802.667,-426 912.667,-426 912.667,-479\"/>\n<text text-anchor=\"start\" x=\"819.667\" y=\"-463.8\" font-family=\"Times,serif\" font-size=\"14.00\">mse = 36.242</text>\n<text text-anchor=\"start\" x=\"810.667\" y=\"-448.8\" font-family=\"Times,serif\" font-size=\"14.00\">samples = 25081</text>\n<text text-anchor=\"start\" x=\"824.167\" y=\"-433.8\" font-family=\"Times,serif\" font-size=\"14.00\">value = &#45;0.6</text>\n</g>\n<!-- 2&#45;&gt;4 -->\n<g id=\"edge4\" class=\"edge\"><title>2&#45;&gt;4</title>\n<path fill=\"none\" stroke=\"black\" d=\"M733.381,-452.5C753.238,-452.5 773.894,-452.5 792.493,-452.5\"/>\n<polygon fill=\"black\" stroke=\"black\" points=\"792.596,-456 802.596,-452.5 792.596,-449 792.596,-456\"/>\n</g>\n<!-- 6 -->\n<g id=\"node7\" class=\"node\"><title>6</title>\n<polygon fill=\"#e58139\" fill-opacity=\"0.670588\" stroke=\"black\" points=\"909.667,-408 805.667,-408 805.667,-355 909.667,-355 909.667,-408\"/>\n<text text-anchor=\"start\" x=\"822.667\" y=\"-392.8\" font-family=\"Times,serif\" font-size=\"14.00\">mse = 5.211</text>\n<text text-anchor=\"start\" x=\"813.667\" y=\"-377.8\" font-family=\"Times,serif\" font-size=\"14.00\">samples = 9318</text>\n<text text-anchor=\"start\" x=\"817.167\" y=\"-362.8\" font-family=\"Times,serif\" font-size=\"14.00\">value = &#45;0.053</text>\n</g>\n<!-- 5&#45;&gt;6 -->\n<g id=\"edge6\" class=\"edge\"><title>5&#45;&gt;6</title>\n<path fill=\"none\" stroke=\"black\" d=\"M751.727,-354.895C766.808,-358.719 781.848,-362.532 795.636,-366.027\"/>\n<polygon fill=\"black\" stroke=\"black\" points=\"794.884,-369.447 805.437,-368.512 796.604,-362.662 794.884,-369.447\"/>\n</g>\n<!-- 7 -->\n<g id=\"node8\" class=\"node\"><title>7</title>\n<polygon fill=\"#e58139\" stroke=\"black\" points=\"912.667,-337 802.667,-337 802.667,-284 912.667,-284 912.667,-337\"/>\n<text text-anchor=\"start\" x=\"822.667\" y=\"-321.8\" font-family=\"Times,serif\" font-size=\"14.00\">mse = 9.257</text>\n<text text-anchor=\"start\" x=\"810.667\" y=\"-306.8\" font-family=\"Times,serif\" font-size=\"14.00\">samples = 12396</text>\n<text text-anchor=\"start\" x=\"819.667\" y=\"-291.8\" font-family=\"Times,serif\" font-size=\"14.00\">value = 0.577</text>\n</g>\n<!-- 5&#45;&gt;7 -->\n<g id=\"edge7\" class=\"edge\"><title>5&#45;&gt;7</title>\n<path fill=\"none\" stroke=\"black\" d=\"M751.727,-318.875C765.622,-317.767 779.481,-316.66 792.359,-315.633\"/>\n<polygon fill=\"black\" stroke=\"black\" points=\"792.768,-319.111 802.458,-314.827 792.211,-312.133 792.768,-319.111\"/>\n</g>\n<!-- 9 -->\n<g id=\"node10\" class=\"node\"><title>9</title>\n<polygon fill=\"#e58139\" fill-opacity=\"0.235294\" stroke=\"black\" points=\"733.167,-255.5 552.167,-255.5 552.167,-187.5 733.167,-187.5 733.167,-255.5\"/>\n<text text-anchor=\"start\" x=\"560.167\" y=\"-240.3\" font-family=\"Times,serif\" font-size=\"14.00\">hist_month_lag_min ≤ &#45;0.942</text>\n<text text-anchor=\"start\" x=\"604.667\" y=\"-225.3\" font-family=\"Times,serif\" font-size=\"14.00\">mse = 15.318</text>\n<text text-anchor=\"start\" x=\"595.667\" y=\"-210.3\" font-family=\"Times,serif\" font-size=\"14.00\">samples = 40355</text>\n<text text-anchor=\"start\" x=\"602.167\" y=\"-195.3\" font-family=\"Times,serif\" font-size=\"14.00\">value = &#45;0.881</text>\n</g>\n<!-- 8&#45;&gt;9 -->\n<g id=\"edge9\" class=\"edge\"><title>8&#45;&gt;9</title>\n<path fill=\"none\" stroke=\"black\" d=\"M479.839,-221.5C500.106,-221.5 521.417,-221.5 541.678,-221.5\"/>\n<polygon fill=\"black\" stroke=\"black\" points=\"541.848,-225 551.848,-221.5 541.848,-218 541.848,-225\"/>\n</g>\n<!-- 12 -->\n<g id=\"node13\" class=\"node\"><title>12</title>\n<polygon fill=\"#e58139\" fill-opacity=\"0.482353\" stroke=\"black\" points=\"744.667,-131.5 540.667,-131.5 540.667,-63.5 744.667,-63.5 744.667,-131.5\"/>\n<text text-anchor=\"start\" x=\"548.667\" y=\"-116.3\" font-family=\"Times,serif\" font-size=\"14.00\">new_purchase_amount_std ≤ 0.83</text>\n<text text-anchor=\"start\" x=\"607.667\" y=\"-101.3\" font-family=\"Times,serif\" font-size=\"14.00\">mse = 5.211</text>\n<text text-anchor=\"start\" x=\"595.667\" y=\"-86.3\" font-family=\"Times,serif\" font-size=\"14.00\">samples = 43793</text>\n<text text-anchor=\"start\" x=\"602.167\" y=\"-71.3\" font-family=\"Times,serif\" font-size=\"14.00\">value = &#45;0.408</text>\n</g>\n<!-- 8&#45;&gt;12 -->\n<g id=\"edge12\" class=\"edge\"><title>8&#45;&gt;12</title>\n<path fill=\"none\" stroke=\"black\" d=\"M451.606,-187.452C485.259,-171.525 525.489,-152.485 560.253,-136.032\"/>\n<polygon fill=\"black\" stroke=\"black\" points=\"561.892,-139.128 569.433,-131.687 558.897,-132.801 561.892,-139.128\"/>\n</g>\n<!-- 10 -->\n<g id=\"node11\" class=\"node\"><title>10</title>\n<polygon fill=\"#e58139\" fill-opacity=\"0.454902\" stroke=\"black\" points=\"912.667,-266 802.667,-266 802.667,-213 912.667,-213 912.667,-266\"/>\n<text text-anchor=\"start\" x=\"822.667\" y=\"-250.8\" font-family=\"Times,serif\" font-size=\"14.00\">mse = 5.751</text>\n<text text-anchor=\"start\" x=\"810.667\" y=\"-235.8\" font-family=\"Times,serif\" font-size=\"14.00\">samples = 20951</text>\n<text text-anchor=\"start\" x=\"817.167\" y=\"-220.8\" font-family=\"Times,serif\" font-size=\"14.00\">value = &#45;0.463</text>\n</g>\n<!-- 9&#45;&gt;10 -->\n<g id=\"edge10\" class=\"edge\"><title>9&#45;&gt;10</title>\n<path fill=\"none\" stroke=\"black\" d=\"M733.381,-229.081C753.238,-230.76 773.894,-232.505 792.493,-234.077\"/>\n<polygon fill=\"black\" stroke=\"black\" points=\"792.337,-237.576 802.596,-234.931 792.926,-230.601 792.337,-237.576\"/>\n</g>\n<!-- 11 -->\n<g id=\"node12\" class=\"node\"><title>11</title>\n<polygon fill=\"none\" stroke=\"black\" points=\"912.667,-195 802.667,-195 802.667,-142 912.667,-142 912.667,-195\"/>\n<text text-anchor=\"start\" x=\"819.667\" y=\"-179.8\" font-family=\"Times,serif\" font-size=\"14.00\">mse = 25.255</text>\n<text text-anchor=\"start\" x=\"810.667\" y=\"-164.8\" font-family=\"Times,serif\" font-size=\"14.00\">samples = 19404</text>\n<text text-anchor=\"start\" x=\"817.167\" y=\"-149.8\" font-family=\"Times,serif\" font-size=\"14.00\">value = &#45;1.332</text>\n</g>\n<!-- 9&#45;&gt;11 -->\n<g id=\"edge11\" class=\"edge\"><title>9&#45;&gt;11</title>\n<path fill=\"none\" stroke=\"black\" d=\"M733.381,-199.177C753.33,-194.213 774.085,-189.048 792.751,-184.404\"/>\n<polygon fill=\"black\" stroke=\"black\" points=\"793.737,-187.765 802.596,-181.954 792.047,-180.972 793.737,-187.765\"/>\n</g>\n<!-- 13 -->\n<g id=\"node14\" class=\"node\"><title>13</title>\n<polygon fill=\"#e58139\" fill-opacity=\"0.525490\" stroke=\"black\" points=\"912.667,-124 802.667,-124 802.667,-71 912.667,-71 912.667,-124\"/>\n<text text-anchor=\"start\" x=\"822.667\" y=\"-108.8\" font-family=\"Times,serif\" font-size=\"14.00\">mse = 5.085</text>\n<text text-anchor=\"start\" x=\"810.667\" y=\"-93.8\" font-family=\"Times,serif\" font-size=\"14.00\">samples = 38668</text>\n<text text-anchor=\"start\" x=\"817.167\" y=\"-78.8\" font-family=\"Times,serif\" font-size=\"14.00\">value = &#45;0.328</text>\n</g>\n<!-- 12&#45;&gt;13 -->\n<g id=\"edge13\" class=\"edge\"><title>12&#45;&gt;13</title>\n<path fill=\"none\" stroke=\"black\" d=\"M744.864,-97.5C760.999,-97.5 777.296,-97.5 792.269,-97.5\"/>\n<polygon fill=\"black\" stroke=\"black\" points=\"792.406,-101 802.406,-97.5 792.406,-94.0001 792.406,-101\"/>\n</g>\n<!-- 14 -->\n<g id=\"node15\" class=\"node\"><title>14</title>\n<polygon fill=\"#e58139\" fill-opacity=\"0.164706\" stroke=\"black\" points=\"909.667,-53 805.667,-53 805.667,-0 909.667,-0 909.667,-53\"/>\n<text text-anchor=\"start\" x=\"822.667\" y=\"-37.8\" font-family=\"Times,serif\" font-size=\"14.00\">mse = 5.738</text>\n<text text-anchor=\"start\" x=\"813.667\" y=\"-22.8\" font-family=\"Times,serif\" font-size=\"14.00\">samples = 5125</text>\n<text text-anchor=\"start\" x=\"817.167\" y=\"-7.8\" font-family=\"Times,serif\" font-size=\"14.00\">value = &#45;1.016</text>\n</g>\n<!-- 12&#45;&gt;14 -->\n<g id=\"edge14\" class=\"edge\"><title>12&#45;&gt;14</title>\n<path fill=\"none\" stroke=\"black\" d=\"M744.864,-63.7674C762.287,-57.9599 779.899,-52.0892 795.829,-46.7791\"/>\n<polygon fill=\"black\" stroke=\"black\" points=\"797.134,-50.0335 805.515,-43.5507 794.921,-43.3927 797.134,-50.0335\"/>\n</g>\n</g>\n</svg>\n"
          },
          "metadata": {}
        }
      ]
    },
    {
      "metadata": {
        "trusted": true,
        "_uuid": "d38371d22ae980bfaaacb750a9e3d6f9cf88dfad"
      },
      "cell_type": "code",
      "source": "m = RandomForestRegressor(n_estimators=1, bootstrap=False, n_jobs=-1)\nm.fit(X_train, y_train)\nprint_score(m)",
      "execution_count": 34,
      "outputs": [
        {
          "output_type": "stream",
          "text": "[1.107821488271007e-05, 5.583263680881021, 0.9999999999915707, -0.9949625205054213]\n",
          "name": "stdout"
        }
      ]
    },
    {
      "metadata": {
        "trusted": true,
        "_uuid": "bab93a9c09707385d310a81ae0ff113bd5fe721e"
      },
      "cell_type": "code",
      "source": "m = RandomForestRegressor(n_estimators=80, n_jobs=-1, oob_score=True) #40\nm.fit(X_train, y_train)\nprint_score(m)",
      "execution_count": 51,
      "outputs": [
        {
          "output_type": "stream",
          "text": "[1.4148365566041787, 3.8669297110615055, 0.8625125142838869, 0.043046093973298505, 0.0006565322846157073]\n",
          "name": "stdout"
        }
      ]
    },
    {
      "metadata": {
        "trusted": true,
        "_uuid": "c56be54f52fb415b1b9a0fa289a5a33cc77c59ef"
      },
      "cell_type": "code",
      "source": "m = RandomForestRegressor(n_estimators=150, n_jobs=-1, oob_score=True) #40\nm.fit(X_train, y_train)\nprint_score(m)",
      "execution_count": 56,
      "outputs": [
        {
          "output_type": "stream",
          "text": "[1.397918683383142, 3.845792699955764, 0.8657808625931221, 0.05347910676745992, 0.021193299965712287]\n",
          "name": "stdout"
        }
      ]
    },
    {
      "metadata": {
        "trusted": true,
        "_uuid": "fd4a7164b41d3e0a61864645585f9113fe4ccf60"
      },
      "cell_type": "code",
      "source": "m = RandomForestRegressor(n_estimators=150, min_samples_leaf=3, n_jobs=-1, oob_score=True) #40\nm.fit(X_train, y_train)\nprint_score(m)",
      "execution_count": 61,
      "outputs": [
        {
          "output_type": "stream",
          "text": "[2.344974274499695, 3.8219548959720817, 0.6223175627260404, 0.06517659228651107, 0.0415863870900427]\n",
          "name": "stdout"
        }
      ]
    },
    {
      "metadata": {
        "trusted": true,
        "_uuid": "390651de2058f52db29aec644995d3a5ea85a0a4"
      },
      "cell_type": "code",
      "source": "prediction = m.predict(df_test)",
      "execution_count": 57,
      "outputs": []
    },
    {
      "metadata": {
        "trusted": true,
        "_uuid": "016022ff1dbec27858a936a0c54dd4bbb683c405"
      },
      "cell_type": "code",
      "source": "from datetime import datetime\nids = df_test.index.values\nvals = prediction\nsub = pd.DataFrame({'card_id': ids, 'target': vals})\nsub.to_csv(\"submission-elo-%s.csv\"%datetime.now().date(), index = False, header = True)\nsub.head()",
      "execution_count": 58,
      "outputs": [
        {
          "output_type": "execute_result",
          "execution_count": 58,
          "data": {
            "text/plain": "           card_id    target\n0  C_ID_0ab67a22ab -2.503089\n1  C_ID_130fd0cbdd -0.377011\n2  C_ID_b709037bc5 -1.041819\n3  C_ID_d27d835a9f  0.175081\n4  C_ID_2b5e3df5c2 -1.836249",
            "text/html": "<div>\n<style scoped>\n    .dataframe tbody tr th:only-of-type {\n        vertical-align: middle;\n    }\n\n    .dataframe tbody tr th {\n        vertical-align: top;\n    }\n\n    .dataframe thead th {\n        text-align: right;\n    }\n</style>\n<table border=\"1\" class=\"dataframe\">\n  <thead>\n    <tr style=\"text-align: right;\">\n      <th></th>\n      <th>card_id</th>\n      <th>target</th>\n    </tr>\n  </thead>\n  <tbody>\n    <tr>\n      <th>0</th>\n      <td>C_ID_0ab67a22ab</td>\n      <td>-2.503089</td>\n    </tr>\n    <tr>\n      <th>1</th>\n      <td>C_ID_130fd0cbdd</td>\n      <td>-0.377011</td>\n    </tr>\n    <tr>\n      <th>2</th>\n      <td>C_ID_b709037bc5</td>\n      <td>-1.041819</td>\n    </tr>\n    <tr>\n      <th>3</th>\n      <td>C_ID_d27d835a9f</td>\n      <td>0.175081</td>\n    </tr>\n    <tr>\n      <th>4</th>\n      <td>C_ID_2b5e3df5c2</td>\n      <td>-1.836249</td>\n    </tr>\n  </tbody>\n</table>\n</div>"
          },
          "metadata": {}
        }
      ]
    },
    {
      "metadata": {
        "trusted": true,
        "_uuid": "84670338b2b280d540146c647847bf1cb446e2ee"
      },
      "cell_type": "code",
      "source": "np.max(sub), np.min(sub)",
      "execution_count": 59,
      "outputs": [
        {
          "output_type": "execute_result",
          "execution_count": 59,
          "data": {
            "text/plain": "(card_id    C_ID_ffff756266\n target             5.91688\n dtype: object, card_id    C_ID_0001238066\n target            -18.8999\n dtype: object)"
          },
          "metadata": {}
        }
      ]
    },
    {
      "metadata": {
        "trusted": true,
        "_uuid": "fadf9bd0e443c92c8fdc0f717045607a19c67680"
      },
      "cell_type": "code",
      "source": "from IPython.display import FileLink, FileLinks\nFileLinks('.')",
      "execution_count": 60,
      "outputs": [
        {
          "output_type": "execute_result",
          "execution_count": 60,
          "data": {
            "text/plain": "./\n  __notebook_source__.ipynb\n  submission-elo-2019-01-13.csv",
            "text/html": "./<br>\n&nbsp;&nbsp;<a href='./__notebook_source__.ipynb' target='_blank'>__notebook_source__.ipynb</a><br>\n&nbsp;&nbsp;<a href='./submission-elo-2019-01-13.csv' target='_blank'>submission-elo-2019-01-13.csv</a><br>"
          },
          "metadata": {}
        }
      ]
    },
    {
      "metadata": {
        "_uuid": "76afe60415224478c45e162455d089c0b0ed3b37"
      },
      "cell_type": "markdown",
      "source": "## Feature importance"
    },
    {
      "metadata": {
        "trusted": true,
        "_uuid": "d9e51d676e3575f8d55c7e1680cd422197c7ef30"
      },
      "cell_type": "code",
      "source": "fi = rf_feat_importance(m,X_train); fi[:10]",
      "execution_count": 64,
      "outputs": [
        {
          "output_type": "execute_result",
          "execution_count": 64,
          "data": {
            "text/plain": "                           cols       imp\n31       hist_purchase_date_ptp  0.069437\n18    hist_authorized_flag_mean  0.065053\n22  hist_purchase_amount_median  0.061022\n24     hist_purchase_amount_min  0.051166\n26        hist_installments_sum  0.047395\n23     hist_purchase_amount_max  0.046512\n21     hist_purchase_amount_sum  0.045307\n25     hist_purchase_amount_std  0.044753\n41      new_purchase_amount_max  0.043135\n19     hist_merchant_id_nunique  0.040718",
            "text/html": "<div>\n<style scoped>\n    .dataframe tbody tr th:only-of-type {\n        vertical-align: middle;\n    }\n\n    .dataframe tbody tr th {\n        vertical-align: top;\n    }\n\n    .dataframe thead th {\n        text-align: right;\n    }\n</style>\n<table border=\"1\" class=\"dataframe\">\n  <thead>\n    <tr style=\"text-align: right;\">\n      <th></th>\n      <th>cols</th>\n      <th>imp</th>\n    </tr>\n  </thead>\n  <tbody>\n    <tr>\n      <th>31</th>\n      <td>hist_purchase_date_ptp</td>\n      <td>0.069437</td>\n    </tr>\n    <tr>\n      <th>18</th>\n      <td>hist_authorized_flag_mean</td>\n      <td>0.065053</td>\n    </tr>\n    <tr>\n      <th>22</th>\n      <td>hist_purchase_amount_median</td>\n      <td>0.061022</td>\n    </tr>\n    <tr>\n      <th>24</th>\n      <td>hist_purchase_amount_min</td>\n      <td>0.051166</td>\n    </tr>\n    <tr>\n      <th>26</th>\n      <td>hist_installments_sum</td>\n      <td>0.047395</td>\n    </tr>\n    <tr>\n      <th>23</th>\n      <td>hist_purchase_amount_max</td>\n      <td>0.046512</td>\n    </tr>\n    <tr>\n      <th>21</th>\n      <td>hist_purchase_amount_sum</td>\n      <td>0.045307</td>\n    </tr>\n    <tr>\n      <th>25</th>\n      <td>hist_purchase_amount_std</td>\n      <td>0.044753</td>\n    </tr>\n    <tr>\n      <th>41</th>\n      <td>new_purchase_amount_max</td>\n      <td>0.043135</td>\n    </tr>\n    <tr>\n      <th>19</th>\n      <td>hist_merchant_id_nunique</td>\n      <td>0.040718</td>\n    </tr>\n  </tbody>\n</table>\n</div>"
          },
          "metadata": {}
        }
      ]
    },
    {
      "metadata": {
        "trusted": true,
        "_uuid": "26cb3bd772077c1259f41dfe3d5c262ef5d8ca77"
      },
      "cell_type": "code",
      "source": "",
      "execution_count": null,
      "outputs": []
    }
  ],
  "metadata": {
    "kernelspec": {
      "display_name": "Python 3",
      "language": "python",
      "name": "python3"
    },
    "language_info": {
      "name": "python",
      "version": "3.6.6",
      "mimetype": "text/x-python",
      "codemirror_mode": {
        "name": "ipython",
        "version": 3
      },
      "pygments_lexer": "ipython3",
      "nbconvert_exporter": "python",
      "file_extension": ".py"
    }
  },
  "nbformat": 4,
  "nbformat_minor": 1
}