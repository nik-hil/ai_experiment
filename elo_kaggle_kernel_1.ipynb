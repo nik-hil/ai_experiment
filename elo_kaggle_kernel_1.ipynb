{
  "cells": [
    {
      "metadata": {
        "_uuid": "0ed6b23b8871d677e707ef18d284d72e1fb60430"
      },
      "cell_type": "markdown",
      "source": ""
    },
    {
      "metadata": {
        "_uuid": "9359af78b09b2e265605e9360818c6759989ee15"
      },
      "cell_type": "markdown",
      "source": "https://www.kaggle.com/truocpham/feature-engineering-and-lightgbm-starter \n\n https://www.kaggle.com/nikhilikhar/elo-fastai-pytorch \n\n # Load packages"
    },
    {
      "metadata": {
        "_uuid": "8f2839f25d086af736a60e9eeb907d3b93b6e0e5",
        "_cell_guid": "b1076dfc-b9ad-4769-8c92-a6c4dae69d19",
        "trusted": true
      },
      "cell_type": "code",
      "source": "import os\nimport gc\n\nfrom fastai import *\nfrom fastai.tabular import *",
      "execution_count": null,
      "outputs": []
    },
    {
      "metadata": {
        "_uuid": "32ffc0efe8909024eaf75cb98bc60cb37e36e4bb"
      },
      "cell_type": "markdown",
      "source": "# Load datasets"
    },
    {
      "metadata": {
        "_cell_guid": "79c7e3d0-c299-4dcb-8224-4455121ee9b0",
        "_uuid": "d629ff2d2480ee46fbb7e2d37f6b5fab8052498a",
        "trusted": true
      },
      "cell_type": "code",
      "source": "%%time\ntrain_df = pd.read_csv('../input/train.csv', parse_dates=[\"first_active_month\"])\ntest_df = pd.read_csv('../input/test.csv', parse_dates=[\"first_active_month\"])\nsample_submission = pd.read_csv('../input/sample_submission.csv')",
      "execution_count": null,
      "outputs": []
    },
    {
      "metadata": {
        "trusted": true,
        "_uuid": "533d2bcdd20d88940cfb908c601d12696d9c0017"
      },
      "cell_type": "code",
      "source": "train_df.head().T",
      "execution_count": null,
      "outputs": []
    },
    {
      "metadata": {
        "trusted": true,
        "_uuid": "d0b7c46dd8016227bd4ea764d2ddcd411652475c"
      },
      "cell_type": "code",
      "source": "test_df.head().T",
      "execution_count": null,
      "outputs": []
    },
    {
      "metadata": {
        "trusted": true,
        "_uuid": "6a2e8b629a4e87f66f754feed8f959b10ed8cbb1"
      },
      "cell_type": "code",
      "source": "%%time\n# merchants = pd.read_csv('../input/merchants.csv')\n# historical_transactions = pd.read_csv('../input/historical_transactions.csv')\nnew_merchant_transactions = pd.read_csv('../input/new_merchant_transactions.csv')",
      "execution_count": null,
      "outputs": []
    },
    {
      "metadata": {
        "trusted": true,
        "_uuid": "65f163c96b2c371571ccf00f0886d92b62b32ba1"
      },
      "cell_type": "code",
      "source": "# col with unique value less than 7\nm_cat_cols = ['category_1',    'most_recent_sales_range',    'most_recent_purchases_range',    \n              'active_months_lag3', 'active_months_lag6', 'category_4', 'category_2']\nh_cat_cols = ['authorized_flag', 'category_1', 'category_3', 'category_2']\nnm_cat_cols = ['authorized_flag', 'category_1','category_3','month_lag','category_2']",
      "execution_count": null,
      "outputs": []
    },
    {
      "metadata": {
        "trusted": true,
        "_uuid": "43baaad268fe4d06913afb28bab52285d7f58b1f"
      },
      "cell_type": "code",
      "source": "new_merchant_transactions.head().T",
      "execution_count": null,
      "outputs": []
    },
    {
      "metadata": {
        "trusted": true,
        "_uuid": "82e6822aa8f7e544e76f89931d99303cf0aa5fcb"
      },
      "cell_type": "code",
      "source": "def missing_impute(df):\n    for i in df.columns:\n        if df[i].dtype == \"object\":\n            df[i] = df[i].fillna(\"other\")\n        elif (df[i].dtype == \"int64\" or df[i].dtype == \"float64\"):\n            df[i] = df[i].fillna(df[i].mean())\n        else:\n            pass\n    return df\ndef datetime_extract(df, dt_col='first_active_month'):\n    # df['date'] = df[dt_col].dt.date \n    df['day'] = df[dt_col].dt.day \n    df['dayofweek'] = df[dt_col].dt.dayofweek\n    df['dayofyear'] = df[dt_col].dt.dayofyear\n    df['days_in_month'] = df[dt_col].dt.days_in_month\n    df['daysinmonth'] = df[dt_col].dt.daysinmonth \n    df['month'] = df[dt_col].dt.month\n    df['week'] = df[dt_col].dt.week \n    df['weekday'] = df[dt_col].dt.weekday\n    df['weekofyear'] = df[dt_col].dt.weekofyear\n    # df['year'] = train[dt_col].dt.year\n\n    return df\n",
      "execution_count": null,
      "outputs": []
    },
    {
      "metadata": {
        "trusted": true,
        "_uuid": "19cb3f5bf2703a32234c35d72f6f18fbfc9c2726"
      },
      "cell_type": "code",
      "source": "%%time\n# Do impute missing values\nfor df in [train_df, test_df, \n#            new_merchant_transactions\n          ]:\n    missing_impute(df)\n    \nadd_datepart(train_df, \"first_active_month\", drop=False)\nadd_datepart(test_df, \"first_active_month\", drop=False)",
      "execution_count": null,
      "outputs": []
    },
    {
      "metadata": {
        "trusted": true,
        "_uuid": "c967a0268f85736f502e8a03e8f17aec4fad8a5d"
      },
      "cell_type": "code",
      "source": "# One-hot encode features\nohe_df_1 = pd.get_dummies(train_df['feature_1'], prefix='f1_')\nohe_df_2 = pd.get_dummies(train_df['feature_2'], prefix='f2_')\nohe_df_3 = pd.get_dummies(train_df['feature_3'], prefix='f3_')\n\nohe_df_4 = pd.get_dummies(test_df['feature_1'], prefix='f1_')\nohe_df_5 = pd.get_dummies(test_df['feature_2'], prefix='f2_')\nohe_df_6 = pd.get_dummies(test_df['feature_3'], prefix='f3_')\n\n# Numerical representation of the first active month\ntrain_df = pd.concat([train_df, ohe_df_1, ohe_df_2, ohe_df_3], axis=1, sort=False)\ntest_df = pd.concat([test_df, ohe_df_4, ohe_df_5, ohe_df_6], axis=1, sort=False)\n\ndel ohe_df_1, ohe_df_2, ohe_df_3\ndel ohe_df_4, ohe_df_5, ohe_df_6\ngc.collect()",
      "execution_count": null,
      "outputs": []
    },
    {
      "metadata": {
        "trusted": true,
        "_uuid": "026ed148d8b47008a026575e373684f00498df5f"
      },
      "cell_type": "code",
      "source": "lt = len(train_df)\nval_idx = range(int(lt * .90), lt)",
      "execution_count": null,
      "outputs": []
    },
    {
      "metadata": {
        "trusted": true,
        "_uuid": "2fcfad9b011414e5fe321ce20135fcb06767acf9"
      },
      "cell_type": "code",
      "source": "train_df.head().T",
      "execution_count": null,
      "outputs": []
    },
    {
      "metadata": {
        "trusted": true,
        "_uuid": "5480e09a2570b54daa72a211676e907c90f7965a"
      },
      "cell_type": "code",
      "source": "path = Path('../input')\ncat_names = ['feature_1', 'feature_2', 'feature_3', 'f1__1', 'f1__2',\n       'f1__3', 'f1__4', 'f1__5', 'f2__1', 'f2__2', 'f2__3', 'f3__0', 'f3__1',\n#             'city_id', 'category_1', 'category_3', 'merchant_category_id',\n#             'month_lag', 'category_2', 'state_id', 'subsector_id'\n            ] \ncont_names = [ 'purchase_amount']\ncont_names = []\ndep_var = 'target'\nprocs = [FillMissing, Categorify, Normalize]\n\ntry:\n    del data\n    del learn\n    gc.collect()\nexcept Exception:\n    pass\n\ndata = (TabularList.from_df(train_df, path=path, cat_names=cat_names, \n                            cont_names=cont_names, procs=procs,)\n    .random_split_by_pct()\n    .label_from_df(cols=dep_var, label_cls=FloatList,log=False)\n    .add_test(ItemList.from_df(test_df,path))\n    .databunch())\n",
      "execution_count": null,
      "outputs": []
    },
    {
      "metadata": {
        "trusted": true,
        "_uuid": "ac979c5ef88167ecd810136aa7bc022e8dd93dfc"
      },
      "cell_type": "code",
      "source": "len(test_df)",
      "execution_count": null,
      "outputs": []
    },
    {
      "metadata": {
        "trusted": true,
        "_uuid": "52d5f4c4fe7697700095a3fcf1b147779bbe455f"
      },
      "cell_type": "code",
      "source": "def rmse(pred:FloatTensor, targ:FloatTensor):\n    \"RMSE between `pred` and `targ`.\"\n    assert pred.numel() == targ.numel(), \"Expected same numbers of elements in pred & targ\"\n    if len(pred.shape)==2: pred=pred.squeeze(1)\n    var = (targ - pred)\n    return torch.sqrt((var**2).mean())\n\nmax_y = (np.max(train_df[dep_var])*1.2)\ny_range = torch.tensor([0, max_y], device=defaults.device)\ny_range",
      "execution_count": null,
      "outputs": []
    },
    {
      "metadata": {
        "trusted": true,
        "_uuid": "6dbf53d06594cb218631e97cb17e30f5618f3f6f"
      },
      "cell_type": "code",
      "source": "learn = tabular_learner(data, layers=[1000, 500], ps=[0.001,0.01], emb_drop=0.04, \n                        model_dir='..', \n                        y_range=y_range, metrics=rmse)",
      "execution_count": null,
      "outputs": []
    },
    {
      "metadata": {
        "trusted": true,
        "_uuid": "e377004385e6ee98ff5447e004c97b66b085ec9a"
      },
      "cell_type": "code",
      "source": "learn.model",
      "execution_count": null,
      "outputs": []
    },
    {
      "metadata": {
        "trusted": true,
        "scrolled": true,
        "_uuid": "ffcfb12a6da472728aa015677df28d2545a354c5"
      },
      "cell_type": "code",
      "source": "learn.lr_find()",
      "execution_count": null,
      "outputs": []
    },
    {
      "metadata": {
        "trusted": true,
        "_uuid": "f1188787fd66a49c4337970a09a4ef85567a09c6"
      },
      "cell_type": "code",
      "source": "learn.recorder.plot(skip_start=0, skip_end=-10)",
      "execution_count": null,
      "outputs": []
    },
    {
      "metadata": {
        "trusted": true,
        "_uuid": "4b8306fb5f5d5b3c908fb2659ec0a06a639127be",
        "scrolled": false
      },
      "cell_type": "code",
      "source": "learn.fit_one_cycle(1, 3e-2,)",
      "execution_count": null,
      "outputs": []
    },
    {
      "metadata": {
        "trusted": true,
        "_uuid": "a096fae42ec1a57f73a23d5498b25980c4d2ec47"
      },
      "cell_type": "code",
      "source": "learn.fit_one_cycle(5, 3e-2, wd=0.2)",
      "execution_count": null,
      "outputs": []
    },
    {
      "metadata": {
        "trusted": true,
        "_uuid": "248a002a6490a712b56f3afbc8cabc3e4f48171d"
      },
      "cell_type": "code",
      "source": "preds, _ = learn.get_preds(ds_type=DatasetType.Test)",
      "execution_count": null,
      "outputs": []
    },
    {
      "metadata": {
        "trusted": true,
        "_uuid": "0851be90b47f922debee0bc6f7f253f6c0d87a96",
        "scrolled": true
      },
      "cell_type": "code",
      "source": "from datetime import datetime\nids = test_df['card_id']\nvals = np.exp(preds.numpy())\nsub = pd.DataFrame({'card_id': ids, 'target': vals[:,0]})\nsub.to_csv(\"submission-%s.csv\"%datetime.now().date(), index = False, header = True)\nsub.head()\n",
      "execution_count": null,
      "outputs": []
    },
    {
      "metadata": {
        "trusted": true,
        "_uuid": "1532dafc2859b47755a32602dabf0b043f5137c5"
      },
      "cell_type": "code",
      "source": "",
      "execution_count": null,
      "outputs": []
    },
    {
      "metadata": {
        "trusted": true,
        "_uuid": "d8fc0fcf7a17a0f56f9d16fc1e6e921b3180b77a"
      },
      "cell_type": "code",
      "source": "",
      "execution_count": null,
      "outputs": []
    }
  ],
  "metadata": {
    "kernelspec": {
      "display_name": "Python 3",
      "language": "python",
      "name": "python3"
    },
    "language_info": {
      "name": "python",
      "version": "3.6.6",
      "mimetype": "text/x-python",
      "codemirror_mode": {
        "name": "ipython",
        "version": 3
      },
      "pygments_lexer": "ipython3",
      "nbconvert_exporter": "python",
      "file_extension": ".py"
    }
  },
  "nbformat": 4,
  "nbformat_minor": 1
}